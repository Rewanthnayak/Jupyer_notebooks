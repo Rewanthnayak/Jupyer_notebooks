{
  "nbformat": 4,
  "nbformat_minor": 0,
  "metadata": {
    "colab": {
      "provenance": [],
      "gpuType": "T4",
      "include_colab_link": true
    },
    "kernelspec": {
      "name": "python3",
      "display_name": "Python 3"
    },
    "language_info": {
      "name": "python"
    }
  },
  "cells": [
    {
      "cell_type": "markdown",
      "metadata": {
        "id": "view-in-github",
        "colab_type": "text"
      },
      "source": [
        "<a href=\"https://colab.research.google.com/github/Rewanthnayak/Jupyer_notebooks/blob/main/Pinecone_Database_movie_dialouges.ipynb\" target=\"_parent\"><img src=\"https://colab.research.google.com/assets/colab-badge.svg\" alt=\"Open In Colab\"/></a>"
      ]
    },
    {
      "cell_type": "markdown",
      "source": [
        "**Vector databases** are purpose-built to handle the unique structure of **vector embeddings**. They **index vectors** for **easy search and retrieval** by comparing values and finding those that are most similar to one another."
      ],
      "metadata": {
        "id": "NcQJYlK7lQEr"
      }
    },
    {
      "cell_type": "code",
      "execution_count": null,
      "metadata": {
        "id": "i1ml27t4Lksp",
        "colab": {
          "base_uri": "https://localhost:8080/"
        },
        "outputId": "8e916273-08e0-4477-9bd4-d40d2affc0ea"
      },
      "outputs": [
        {
          "output_type": "stream",
          "name": "stdout",
          "text": [
            "\u001b[?25l     \u001b[90m━━━━━━━━━━━━━━━━━━━━━━━━━━━━━━━━━━━━━━━━\u001b[0m \u001b[32m0.0/86.0 kB\u001b[0m \u001b[31m?\u001b[0m eta \u001b[36m-:--:--\u001b[0m\r\u001b[2K     \u001b[90m━━━━━━━━━━━━━━━━━━━━━━━━━━━━━━━━━━━━━━━━\u001b[0m \u001b[32m86.0/86.0 kB\u001b[0m \u001b[31m3.1 MB/s\u001b[0m eta \u001b[36m0:00:00\u001b[0m\n",
            "\u001b[?25h  Preparing metadata (setup.py) ... \u001b[?25l\u001b[?25hdone\n",
            "\u001b[2K     \u001b[90m━━━━━━━━━━━━━━━━━━━━━━━━━━━━━━━━━━━━━━\u001b[0m \u001b[32m179.1/179.1 kB\u001b[0m \u001b[31m13.0 MB/s\u001b[0m eta \u001b[36m0:00:00\u001b[0m\n",
            "\u001b[2K     \u001b[90m━━━━━━━━━━━━━━━━━━━━━━━━━━━━━━━━━━━━━━━━\u001b[0m \u001b[32m1.1/1.1 MB\u001b[0m \u001b[31m37.4 MB/s\u001b[0m eta \u001b[36m0:00:00\u001b[0m\n",
            "\u001b[2K     \u001b[90m━━━━━━━━━━━━━━━━━━━━━━━━━━━━━━━━━━━━━━━━\u001b[0m \u001b[32m7.2/7.2 MB\u001b[0m \u001b[31m72.7 MB/s\u001b[0m eta \u001b[36m0:00:00\u001b[0m\n",
            "\u001b[2K     \u001b[90m━━━━━━━━━━━━━━━━━━━━━━━━━━━━━━━━━━━━━━━━\u001b[0m \u001b[32m1.3/1.3 MB\u001b[0m \u001b[31m27.1 MB/s\u001b[0m eta \u001b[36m0:00:00\u001b[0m\n",
            "\u001b[2K     \u001b[90m━━━━━━━━━━━━━━━━━━━━━━━━━━━━━━━━━━━━━━\u001b[0m \u001b[32m236.8/236.8 kB\u001b[0m \u001b[31m17.3 MB/s\u001b[0m eta \u001b[36m0:00:00\u001b[0m\n",
            "\u001b[2K     \u001b[90m━━━━━━━━━━━━━━━━━━━━━━━━━━━━━━━━━━━━━━━━\u001b[0m \u001b[32m60.0/60.0 kB\u001b[0m \u001b[31m6.7 MB/s\u001b[0m eta \u001b[36m0:00:00\u001b[0m\n",
            "\u001b[2K     \u001b[90m━━━━━━━━━━━━━━━━━━━━━━━━━━━━━━━━━━━━━━\u001b[0m \u001b[32m283.7/283.7 kB\u001b[0m \u001b[31m21.5 MB/s\u001b[0m eta \u001b[36m0:00:00\u001b[0m\n",
            "\u001b[2K     \u001b[90m━━━━━━━━━━━━━━━━━━━━━━━━━━━━━━━━━━━━━━━━\u001b[0m \u001b[32m1.0/1.0 MB\u001b[0m \u001b[31m64.7 MB/s\u001b[0m eta \u001b[36m0:00:00\u001b[0m\n",
            "\u001b[2K     \u001b[90m━━━━━━━━━━━━━━━━━━━━━━━━━━━━━━━━━━━━━━━━\u001b[0m \u001b[32m90.0/90.0 kB\u001b[0m \u001b[31m9.7 MB/s\u001b[0m eta \u001b[36m0:00:00\u001b[0m\n",
            "\u001b[2K     \u001b[90m━━━━━━━━━━━━━━━━━━━━━━━━━━━━━━━━━━━━━━\u001b[0m \u001b[32m114.5/114.5 kB\u001b[0m \u001b[31m10.5 MB/s\u001b[0m eta \u001b[36m0:00:00\u001b[0m\n",
            "\u001b[2K     \u001b[90m━━━━━━━━━━━━━━━━━━━━━━━━━━━━━━━━━━━━━━\u001b[0m \u001b[32m268.8/268.8 kB\u001b[0m \u001b[31m20.4 MB/s\u001b[0m eta \u001b[36m0:00:00\u001b[0m\n",
            "\u001b[2K     \u001b[90m━━━━━━━━━━━━━━━━━━━━━━━━━━━━━━━━━━━━━━\u001b[0m \u001b[32m149.6/149.6 kB\u001b[0m \u001b[31m12.5 MB/s\u001b[0m eta \u001b[36m0:00:00\u001b[0m\n",
            "\u001b[2K     \u001b[90m━━━━━━━━━━━━━━━━━━━━━━━━━━━━━━━━━━━━━━━━\u001b[0m \u001b[32m49.1/49.1 kB\u001b[0m \u001b[31m4.1 MB/s\u001b[0m eta \u001b[36m0:00:00\u001b[0m\n",
            "\u001b[2K     \u001b[90m━━━━━━━━━━━━━━━━━━━━━━━━━━━━━━━━━━━━━━━━\u001b[0m \u001b[32m7.8/7.8 MB\u001b[0m \u001b[31m37.2 MB/s\u001b[0m eta \u001b[36m0:00:00\u001b[0m\n",
            "\u001b[2K     \u001b[90m━━━━━━━━━━━━━━━━━━━━━━━━━━━━━━━━━━━━━━━━\u001b[0m \u001b[32m1.3/1.3 MB\u001b[0m \u001b[31m53.0 MB/s\u001b[0m eta \u001b[36m0:00:00\u001b[0m\n",
            "\u001b[?25h  Building wheel for sentence-transformers (setup.py) ... \u001b[?25l\u001b[?25hdone\n"
          ]
        }
      ],
      "source": [
        "!pip install sentence-transformers pinecone-client langchain -q"
      ]
    },
    {
      "cell_type": "code",
      "source": [
        "import pandas as pd"
      ],
      "metadata": {
        "id": "BKkL6j6pM7Ec"
      },
      "execution_count": null,
      "outputs": []
    },
    {
      "cell_type": "code",
      "source": [
        "import os\n",
        "import io\n",
        "import urllib\n",
        "import zipfile\n",
        "\n",
        "def load_cornell_movie_dialogs():\n",
        "    \"\"\"Loads the Cornell Movie Dialogue Corpus into a Pandas DataFrame.\"\"\"\n",
        "\n",
        "    url = \"http://www.cs.cornell.edu/~cristian/data/cornell_movie_dialogs_corpus.zip\"\n",
        "    file_path = \"cornell_movie_dialogs.zip\"\n",
        "\n",
        "    if not os.path.exists(file_path):\n",
        "        print(\"Downloading Cornell Movie Dialogue Corpus...\")\n",
        "        urllib.request.urlretrieve(url, file_path)\n",
        "\n",
        "    with zipfile.ZipFile(file_path) as zip_file:\n",
        "        with zip_file.open('cornell movie-dialogs corpus/movie_lines.txt') as lines_file:\n",
        "            lines = lines_file.readlines()\n",
        "            lines = [line.decode(\"unicode_escape\") for line in lines]\n",
        "\n",
        "        with zip_file.open('cornell movie-dialogs corpus/movie_conversations.txt') as conversations_file:\n",
        "            conversations = conversations_file.readlines()\n",
        "            conversations = [conv.decode(\"unicode_escape\") for conv in conversations]\n",
        "\n",
        "    # return conversations\n",
        "    df = pd.DataFrame({\n",
        "        \"LineID\": [line.split(\" +++$+++ \")[0] for line in lines],\n",
        "        \"Character\": [line.split(\" +++$+++ \")[1] for line in lines],\n",
        "        \"Movie\": [line.split(\" +++$+++ \")[2] for line in lines],\n",
        "        \"Name\": [line.split(\" +++$+++ \")[3] for line in lines],\n",
        "        \"Line\": [line.split(\" +++$+++ \")[4] for line in lines],\n",
        "    })\n",
        "\n",
        "    # df[\"ConversationID\"] = [conversation.split(\" +++$+++ \")[0] for conversation in conversations]\n",
        "    # df[\"UtteranceID\"] = [conversation.split(\" +++$+++ \")[1] for conversation in conversations]\n",
        "\n",
        "    return df\n",
        "\n",
        "df = load_cornell_movie_dialogs()\n",
        "df"
      ],
      "metadata": {
        "colab": {
          "base_uri": "https://localhost:8080/",
          "height": 423
        },
        "id": "VVKDX93jVXIy",
        "outputId": "84a82933-1d82-4716-aefe-982d0d4d1475"
      },
      "execution_count": null,
      "outputs": [
        {
          "output_type": "execute_result",
          "data": {
            "text/plain": [
              "         LineID Character Movie      Name  \\\n",
              "0         L1045        u0    m0    BIANCA   \n",
              "1         L1044        u2    m0   CAMERON   \n",
              "2          L985        u0    m0    BIANCA   \n",
              "3          L984        u2    m0   CAMERON   \n",
              "4          L925        u0    m0    BIANCA   \n",
              "...         ...       ...   ...       ...   \n",
              "304708  L666371     u9030  m616  DURNFORD   \n",
              "304709  L666370     u9034  m616   VEREKER   \n",
              "304710  L666369     u9030  m616  DURNFORD   \n",
              "304711  L666257     u9030  m616  DURNFORD   \n",
              "304712  L666256     u9034  m616   VEREKER   \n",
              "\n",
              "                                                     Line  \n",
              "0                                          They do not!\\n  \n",
              "1                                           They do to!\\n  \n",
              "2                                            I hope so.\\n  \n",
              "3                                             She okay?\\n  \n",
              "4                                             Let's go.\\n  \n",
              "...                                                   ...  \n",
              "304708  Lord Chelmsford seems to want me to stay back ...  \n",
              "304709  I'm to take the Sikali with the main column to...  \n",
              "304710                         Your orders, Mr Vereker?\\n  \n",
              "304711  Good ones, yes, Mr Vereker. Gentlemen who can ...  \n",
              "304712  Colonel Durnford... William Vereker. I hear yo...  \n",
              "\n",
              "[304713 rows x 5 columns]"
            ],
            "text/html": [
              "\n",
              "  <div id=\"df-2a0ed37a-adf9-4a61-92cc-ecbc67b88d23\">\n",
              "    <div class=\"colab-df-container\">\n",
              "      <div>\n",
              "<style scoped>\n",
              "    .dataframe tbody tr th:only-of-type {\n",
              "        vertical-align: middle;\n",
              "    }\n",
              "\n",
              "    .dataframe tbody tr th {\n",
              "        vertical-align: top;\n",
              "    }\n",
              "\n",
              "    .dataframe thead th {\n",
              "        text-align: right;\n",
              "    }\n",
              "</style>\n",
              "<table border=\"1\" class=\"dataframe\">\n",
              "  <thead>\n",
              "    <tr style=\"text-align: right;\">\n",
              "      <th></th>\n",
              "      <th>LineID</th>\n",
              "      <th>Character</th>\n",
              "      <th>Movie</th>\n",
              "      <th>Name</th>\n",
              "      <th>Line</th>\n",
              "    </tr>\n",
              "  </thead>\n",
              "  <tbody>\n",
              "    <tr>\n",
              "      <th>0</th>\n",
              "      <td>L1045</td>\n",
              "      <td>u0</td>\n",
              "      <td>m0</td>\n",
              "      <td>BIANCA</td>\n",
              "      <td>They do not!\\n</td>\n",
              "    </tr>\n",
              "    <tr>\n",
              "      <th>1</th>\n",
              "      <td>L1044</td>\n",
              "      <td>u2</td>\n",
              "      <td>m0</td>\n",
              "      <td>CAMERON</td>\n",
              "      <td>They do to!\\n</td>\n",
              "    </tr>\n",
              "    <tr>\n",
              "      <th>2</th>\n",
              "      <td>L985</td>\n",
              "      <td>u0</td>\n",
              "      <td>m0</td>\n",
              "      <td>BIANCA</td>\n",
              "      <td>I hope so.\\n</td>\n",
              "    </tr>\n",
              "    <tr>\n",
              "      <th>3</th>\n",
              "      <td>L984</td>\n",
              "      <td>u2</td>\n",
              "      <td>m0</td>\n",
              "      <td>CAMERON</td>\n",
              "      <td>She okay?\\n</td>\n",
              "    </tr>\n",
              "    <tr>\n",
              "      <th>4</th>\n",
              "      <td>L925</td>\n",
              "      <td>u0</td>\n",
              "      <td>m0</td>\n",
              "      <td>BIANCA</td>\n",
              "      <td>Let's go.\\n</td>\n",
              "    </tr>\n",
              "    <tr>\n",
              "      <th>...</th>\n",
              "      <td>...</td>\n",
              "      <td>...</td>\n",
              "      <td>...</td>\n",
              "      <td>...</td>\n",
              "      <td>...</td>\n",
              "    </tr>\n",
              "    <tr>\n",
              "      <th>304708</th>\n",
              "      <td>L666371</td>\n",
              "      <td>u9030</td>\n",
              "      <td>m616</td>\n",
              "      <td>DURNFORD</td>\n",
              "      <td>Lord Chelmsford seems to want me to stay back ...</td>\n",
              "    </tr>\n",
              "    <tr>\n",
              "      <th>304709</th>\n",
              "      <td>L666370</td>\n",
              "      <td>u9034</td>\n",
              "      <td>m616</td>\n",
              "      <td>VEREKER</td>\n",
              "      <td>I'm to take the Sikali with the main column to...</td>\n",
              "    </tr>\n",
              "    <tr>\n",
              "      <th>304710</th>\n",
              "      <td>L666369</td>\n",
              "      <td>u9030</td>\n",
              "      <td>m616</td>\n",
              "      <td>DURNFORD</td>\n",
              "      <td>Your orders, Mr Vereker?\\n</td>\n",
              "    </tr>\n",
              "    <tr>\n",
              "      <th>304711</th>\n",
              "      <td>L666257</td>\n",
              "      <td>u9030</td>\n",
              "      <td>m616</td>\n",
              "      <td>DURNFORD</td>\n",
              "      <td>Good ones, yes, Mr Vereker. Gentlemen who can ...</td>\n",
              "    </tr>\n",
              "    <tr>\n",
              "      <th>304712</th>\n",
              "      <td>L666256</td>\n",
              "      <td>u9034</td>\n",
              "      <td>m616</td>\n",
              "      <td>VEREKER</td>\n",
              "      <td>Colonel Durnford... William Vereker. I hear yo...</td>\n",
              "    </tr>\n",
              "  </tbody>\n",
              "</table>\n",
              "<p>304713 rows × 5 columns</p>\n",
              "</div>\n",
              "      <button class=\"colab-df-convert\" onclick=\"convertToInteractive('df-2a0ed37a-adf9-4a61-92cc-ecbc67b88d23')\"\n",
              "              title=\"Convert this dataframe to an interactive table.\"\n",
              "              style=\"display:none;\">\n",
              "        \n",
              "  <svg xmlns=\"http://www.w3.org/2000/svg\" height=\"24px\"viewBox=\"0 0 24 24\"\n",
              "       width=\"24px\">\n",
              "    <path d=\"M0 0h24v24H0V0z\" fill=\"none\"/>\n",
              "    <path d=\"M18.56 5.44l.94 2.06.94-2.06 2.06-.94-2.06-.94-.94-2.06-.94 2.06-2.06.94zm-11 1L8.5 8.5l.94-2.06 2.06-.94-2.06-.94L8.5 2.5l-.94 2.06-2.06.94zm10 10l.94 2.06.94-2.06 2.06-.94-2.06-.94-.94-2.06-.94 2.06-2.06.94z\"/><path d=\"M17.41 7.96l-1.37-1.37c-.4-.4-.92-.59-1.43-.59-.52 0-1.04.2-1.43.59L10.3 9.45l-7.72 7.72c-.78.78-.78 2.05 0 2.83L4 21.41c.39.39.9.59 1.41.59.51 0 1.02-.2 1.41-.59l7.78-7.78 2.81-2.81c.8-.78.8-2.07 0-2.86zM5.41 20L4 18.59l7.72-7.72 1.47 1.35L5.41 20z\"/>\n",
              "  </svg>\n",
              "      </button>\n",
              "      \n",
              "  <style>\n",
              "    .colab-df-container {\n",
              "      display:flex;\n",
              "      flex-wrap:wrap;\n",
              "      gap: 12px;\n",
              "    }\n",
              "\n",
              "    .colab-df-convert {\n",
              "      background-color: #E8F0FE;\n",
              "      border: none;\n",
              "      border-radius: 50%;\n",
              "      cursor: pointer;\n",
              "      display: none;\n",
              "      fill: #1967D2;\n",
              "      height: 32px;\n",
              "      padding: 0 0 0 0;\n",
              "      width: 32px;\n",
              "    }\n",
              "\n",
              "    .colab-df-convert:hover {\n",
              "      background-color: #E2EBFA;\n",
              "      box-shadow: 0px 1px 2px rgba(60, 64, 67, 0.3), 0px 1px 3px 1px rgba(60, 64, 67, 0.15);\n",
              "      fill: #174EA6;\n",
              "    }\n",
              "\n",
              "    [theme=dark] .colab-df-convert {\n",
              "      background-color: #3B4455;\n",
              "      fill: #D2E3FC;\n",
              "    }\n",
              "\n",
              "    [theme=dark] .colab-df-convert:hover {\n",
              "      background-color: #434B5C;\n",
              "      box-shadow: 0px 1px 3px 1px rgba(0, 0, 0, 0.15);\n",
              "      filter: drop-shadow(0px 1px 2px rgba(0, 0, 0, 0.3));\n",
              "      fill: #FFFFFF;\n",
              "    }\n",
              "  </style>\n",
              "\n",
              "      <script>\n",
              "        const buttonEl =\n",
              "          document.querySelector('#df-2a0ed37a-adf9-4a61-92cc-ecbc67b88d23 button.colab-df-convert');\n",
              "        buttonEl.style.display =\n",
              "          google.colab.kernel.accessAllowed ? 'block' : 'none';\n",
              "\n",
              "        async function convertToInteractive(key) {\n",
              "          const element = document.querySelector('#df-2a0ed37a-adf9-4a61-92cc-ecbc67b88d23');\n",
              "          const dataTable =\n",
              "            await google.colab.kernel.invokeFunction('convertToInteractive',\n",
              "                                                     [key], {});\n",
              "          if (!dataTable) return;\n",
              "\n",
              "          const docLinkHtml = 'Like what you see? Visit the ' +\n",
              "            '<a target=\"_blank\" href=https://colab.research.google.com/notebooks/data_table.ipynb>data table notebook</a>'\n",
              "            + ' to learn more about interactive tables.';\n",
              "          element.innerHTML = '';\n",
              "          dataTable['output_type'] = 'display_data';\n",
              "          await google.colab.output.renderOutput(dataTable, element);\n",
              "          const docLink = document.createElement('div');\n",
              "          docLink.innerHTML = docLinkHtml;\n",
              "          element.appendChild(docLink);\n",
              "        }\n",
              "      </script>\n",
              "    </div>\n",
              "  </div>\n",
              "  "
            ]
          },
          "metadata": {},
          "execution_count": 19
        }
      ]
    },
    {
      "cell_type": "code",
      "source": [
        "df.isnull().sum()"
      ],
      "metadata": {
        "colab": {
          "base_uri": "https://localhost:8080/"
        },
        "id": "ChXwHkjCVghB",
        "outputId": "74175c21-4dd8-494b-acba-275f68347441"
      },
      "execution_count": null,
      "outputs": [
        {
          "output_type": "execute_result",
          "data": {
            "text/plain": [
              "LineID       0\n",
              "Character    0\n",
              "Movie        0\n",
              "Name         0\n",
              "Line         0\n",
              "dtype: int64"
            ]
          },
          "metadata": {},
          "execution_count": 20
        }
      ]
    },
    {
      "cell_type": "code",
      "source": [
        "import pinecone\n",
        "pinecone.init(api_key='f651e399-7355-4972-9595-afb52787ecf1', environment='asia-southeast1-gcp-free')"
      ],
      "metadata": {
        "id": "Mk_XL8NnNIT4"
      },
      "execution_count": null,
      "outputs": []
    },
    {
      "cell_type": "code",
      "source": [
        "from sentence_transformers import SentenceTransformer\n",
        "model = SentenceTransformer('all-mpnet-base-v2',device='cpu')"
      ],
      "metadata": {
        "id": "WG01OhXOOELX"
      },
      "execution_count": null,
      "outputs": []
    },
    {
      "cell_type": "code",
      "source": [
        "embeding = model.encode(\"This is a sentence\")\n",
        "# print(embeding)\n",
        "print(len(embeding))\n",
        "\n",
        "embeding = model.encode(\"This is not a sentence\")\n",
        "# print(embeding)\n",
        "print(len(embeding))"
      ],
      "metadata": {
        "colab": {
          "base_uri": "https://localhost:8080/"
        },
        "id": "Xr3hfxUEjd9k",
        "outputId": "ffaae25c-fed9-4771-c6e6-cbbf97fe6b1c"
      },
      "execution_count": null,
      "outputs": [
        {
          "output_type": "stream",
          "name": "stdout",
          "text": [
            "768\n",
            "768\n"
          ]
        }
      ]
    },
    {
      "cell_type": "code",
      "source": [
        "pinecone.create_index(name='movie-dialogues', dimension=768,metric='cosine')"
      ],
      "metadata": {
        "id": "81qZl8NhN2Do"
      },
      "execution_count": null,
      "outputs": []
    },
    {
      "cell_type": "code",
      "source": [
        "index = pinecone.Index('movie-dialogues')"
      ],
      "metadata": {
        "id": "EllDx72hOSai"
      },
      "execution_count": null,
      "outputs": []
    },
    {
      "cell_type": "code",
      "source": [
        "# [(id,vector,metadata)]"
      ],
      "metadata": {
        "id": "xZxuiwn1Xm9R"
      },
      "execution_count": null,
      "outputs": []
    },
    {
      "cell_type": "code",
      "source": [
        "def first_500(input:str):\n",
        "  if len(input)>512:\n",
        "    return input[:510]\n",
        "  else:\n",
        "    return input"
      ],
      "metadata": {
        "id": "JENy_5apJsW4"
      },
      "execution_count": null,
      "outputs": []
    },
    {
      "cell_type": "code",
      "source": [
        "movie_lines = []\n",
        "for i,row in data.iterrows():\n",
        "  if line := row['line']:\n",
        "    line = first_500(line)\n",
        "    try :\n",
        "        movie_lines.append(\n",
        "                             (str(row['lid']),\n",
        "                              model.encode(line).tolist(),\n",
        "                              {\n",
        "                                  'cid': row['cid'],\n",
        "                                  'mid' : row['mid'],\n",
        "                                  'character' : row['character'],\n",
        "                                  'line': row['line']\n",
        "                              })\n",
        "                          )\n",
        "    except Exception:\n",
        "          print(f'{Exception} in line : {i}')\n",
        "\n",
        "    if len(movie_lines)==50 or len(movie_lines)==len(data):\n",
        "      index.upsert(vectors=movie_lines)\n",
        "      movie_lines = []"
      ],
      "metadata": {
        "id": "A2oqmqzYeKLF"
      },
      "execution_count": null,
      "outputs": []
    },
    {
      "cell_type": "code",
      "source": [
        "print(len(movie_lines))"
      ],
      "metadata": {
        "id": "mZlZz2p3HPSV"
      },
      "execution_count": null,
      "outputs": []
    },
    {
      "cell_type": "code",
      "source": [
        "query = \"How do I prepare for civil service?\"\n",
        "xq = model.encode([query]).tolist()\n",
        "result = index.query(xq, top_k=2, includeMetadata=True)\n",
        "result"
      ],
      "metadata": {
        "id": "BwcCaOIaQYSf"
      },
      "execution_count": null,
      "outputs": []
    },
    {
      "cell_type": "code",
      "source": [
        "query = \"How to levergae internet for business\"\n",
        "xq = model.encode([query]).tolist()\n",
        "result = index.query(xq, top_k=2, includeMetadata=True)\n",
        "result"
      ],
      "metadata": {
        "id": "QK5Hx1x1RI8f"
      },
      "execution_count": null,
      "outputs": []
    },
    {
      "cell_type": "code",
      "source": [
        "!pip install langchain"
      ],
      "metadata": {
        "id": "Bev_5-Wc9aUy"
      },
      "execution_count": null,
      "outputs": []
    },
    {
      "cell_type": "code",
      "source": [],
      "metadata": {
        "id": "Ke7h4HRw-WIy"
      },
      "execution_count": null,
      "outputs": []
    },
    {
      "cell_type": "code",
      "source": [
        "from langchain.embeddings import HuggingFaceEmbeddings\n",
        "import json\n",
        "\n",
        "embeddings = HuggingFaceEmbeddings()"
      ],
      "metadata": {
        "id": "wlT7Ql4U9ZhT"
      },
      "execution_count": null,
      "outputs": []
    },
    {
      "cell_type": "code",
      "source": [
        "res = embeddings.embed_query('the name is nayak, rewanth nayak.')"
      ],
      "metadata": {
        "id": "CLR_UZdp9gSC"
      },
      "execution_count": null,
      "outputs": []
    },
    {
      "cell_type": "code",
      "source": [
        "type(res)"
      ],
      "metadata": {
        "colab": {
          "base_uri": "https://localhost:8080/"
        },
        "id": "dXOEd53l9tx8",
        "outputId": "438d9c9d-e7f7-4058-cb4f-c5d044d9d931"
      },
      "execution_count": null,
      "outputs": [
        {
          "output_type": "execute_result",
          "data": {
            "text/plain": [
              "list"
            ]
          },
          "metadata": {},
          "execution_count": 5
        }
      ]
    },
    {
      "cell_type": "code",
      "source": [
        "res"
      ],
      "metadata": {
        "id": "rjXS8T0L9zAX"
      },
      "execution_count": null,
      "outputs": []
    },
    {
      "cell_type": "code",
      "source": [
        "query = \"i'll have my vengence in this life or the next\"\n",
        "xq = embeddings.embed_query(query)\n",
        "result = index.query(xq, top_k=8, includeMetadata=True)\n",
        "result"
      ],
      "metadata": {
        "id": "6tvmVTARBDb_"
      },
      "execution_count": null,
      "outputs": []
    },
    {
      "cell_type": "code",
      "source": [
        "request = {\n",
        "  \"topK\": 10,\n",
        "  \"includeMetadata\": True,\n",
        "  \"namespace\": \"example_namespace\",\n",
        "  \"queries\": [\n",
        "    {\n",
        "      \"filter\": {\n",
        "        \"colors\": {\n",
        "          \"$eq\": \"pink\"\n",
        "        }\n",
        "      },\n",
        "      \"values\": res\n",
        "    }\n",
        "  ]\n",
        "}"
      ],
      "metadata": {
        "id": "-h1atQe8-NRv"
      },
      "execution_count": null,
      "outputs": []
    },
    {
      "cell_type": "code",
      "source": [
        "request"
      ],
      "metadata": {
        "id": "erEy1MsGAVx8"
      },
      "execution_count": null,
      "outputs": []
    },
    {
      "cell_type": "code",
      "source": [
        "json_string = json.dumps(request, indent=4)\n",
        "\n",
        "print(json_string)"
      ],
      "metadata": {
        "id": "DEb1O4rF91tT"
      },
      "execution_count": null,
      "outputs": []
    },
    {
      "cell_type": "code",
      "source": [
        "with open(\"request.json\", \"w\") as f:\n",
        "        f.write(json_string)"
      ],
      "metadata": {
        "id": "_3lyl-kg-riu"
      },
      "execution_count": null,
      "outputs": []
    }
  ]
}