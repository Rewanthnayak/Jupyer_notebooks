{
  "nbformat": 4,
  "nbformat_minor": 0,
  "metadata": {
    "colab": {
      "provenance": [],
      "toc_visible": true,
      "authorship_tag": "ABX9TyN+RnZigWz6cKizKj4hisMr",
      "include_colab_link": true
    },
    "kernelspec": {
      "name": "python3",
      "display_name": "Python 3"
    },
    "language_info": {
      "name": "python"
    }
  },
  "cells": [
    {
      "cell_type": "markdown",
      "metadata": {
        "id": "view-in-github",
        "colab_type": "text"
      },
      "source": [
        "<a href=\"https://colab.research.google.com/github/Rewanthnayak/Jupyer_notebooks/blob/main/Kaggle_to_Drive_Dataset_Retrieval_and_Storage.ipynb\" target=\"_parent\"><img src=\"https://colab.research.google.com/assets/colab-badge.svg\" alt=\"Open In Colab\"/></a>"
      ]
    },
    {
      "cell_type": "markdown",
      "source": [
        "# **Dataset Retrieval and Storage: Kaggle to Google Colab**"
      ],
      "metadata": {
        "id": "VQ8V5ScDNSBt"
      }
    },
    {
      "cell_type": "markdown",
      "source": [
        "## **Introduction:**   \n",
        "This notebook provides a straightforward solution for pulling datasets from Kaggle and saving them to Google Drive using Google Colab. By leveraging Google's powerful resources, this approach eliminates the challenges of downloading and managing large datasets on local computers. \n",
        "\n",
        "Experience the convenience of utilizing Google's infrastructure and accelerate your  data-driven projects with ease. \n",
        "\n",
        "Let's get started and harness the efficiency of  Kaggle, Google Colab, and Google Drive for seamless dataset retrieval and storage!"
      ],
      "metadata": {
        "id": "h1mJiJQiR96Y"
      }
    },
    {
      "cell_type": "markdown",
      "source": [
        "## 1. Upload your Kaggle API Key [**kaggle.json**] here"
      ],
      "metadata": {
        "id": "q5F7uYuGNhS_"
      }
    },
    {
      "cell_type": "code",
      "source": [
        "import os\n",
        "from google.colab import files\n",
        "files.upload()"
      ],
      "metadata": {
        "id": "i6RCKmyy8eOL"
      },
      "execution_count": null,
      "outputs": []
    },
    {
      "cell_type": "markdown",
      "source": [
        "### Move the file into place"
      ],
      "metadata": {
        "id": "kA5zGXwSOcZM"
      }
    },
    {
      "cell_type": "code",
      "source": [
        "!mkdir -p ~/.kaggle\n",
        "!cp kaggle.json ~/.kaggle/\n",
        "!chmod 600 ~/.kaggle/kaggle.json\n",
        "!rm kaggle.json"
      ],
      "metadata": {
        "id": "ejQzvEM783JU"
      },
      "execution_count": null,
      "outputs": []
    },
    {
      "cell_type": "markdown",
      "source": [
        "## 2. Copy and paste the API COmmand from the Kaggle page of the dataset required"
      ],
      "metadata": {
        "id": "KZ5aoDKSOlu8"
      }
    },
    {
      "cell_type": "code",
      "execution_count": null,
      "metadata": {
        "id": "BuQiX4IP6ZX6"
      },
      "outputs": [],
      "source": [
        "!kaggle datasets download -d paultimothymooney/breast-histopathology-images"
      ]
    },
    {
      "cell_type": "code",
      "source": [
        "print(os.getcwd())\n",
        "print(os.listdir())"
      ],
      "metadata": {
        "id": "NRqxHE6M9YAt"
      },
      "execution_count": null,
      "outputs": []
    },
    {
      "cell_type": "markdown",
      "source": [
        "## 3. Unzip the downloded .zip file"
      ],
      "metadata": {
        "id": "TZCJHpzIUB6m"
      }
    },
    {
      "cell_type": "code",
      "source": [
        "!unzip /content/file_name.zip"
      ],
      "metadata": {
        "id": "-ozV0CMYUHW5"
      },
      "execution_count": null,
      "outputs": []
    },
    {
      "cell_type": "markdown",
      "source": [
        "## 4. copy fie to Drive"
      ],
      "metadata": {
        "id": "TtUpep4eVdYG"
      }
    },
    {
      "cell_type": "code",
      "source": [
        "import shutil\n",
        "\n",
        "# Specify the source and destination file paths\n",
        "source_file = ''       # colab location\n",
        "destination_file = ''  # Drive location\n",
        "\n",
        "# Copy the file\n",
        "shutil.copyfile(source_file, destination_file)\n",
        "\n",
        "# Print a success message\n",
        "print(f\"File copied successfully from '{source_file}' to '{destination_file}'.\")\n"
      ],
      "metadata": {
        "id": "VmdKbcaW-_WM"
      },
      "execution_count": null,
      "outputs": []
    },
    {
      "cell_type": "markdown",
      "source": [
        "## 5. **Cautionary Note:**\n",
        "- When uploading large files to Google Drive, it may take some time for the changes to be reflected in your Drive. This delay is dependent on the size of the file and the speed of your internet connection. Please be patient and avoid running the notebook again or interrupting the process before confirming the upload status.\n",
        "\n",
        "- Before executing the code to upload files to Google Drive, ensure that you have properly mounted your Google Drive in the Colab notebook as mentioned in the previous steps. Failing to do so may result in errors or unsuccessful file uploads.\n",
        "\n",
        "- It is important to be mindful of the available storage capacity in your Google Drive. Uploading large datasets or files may consume a significant amount of space. Regularly review and manage your Google Drive storage to avoid exceeding the allocated quota.\n",
        "\n",
        "By keeping these warnings in mind, you can confidently upload files to your Google Drive from Google Colab while taking appropriate precautions and following best practices."
      ],
      "metadata": {
        "id": "5-e3KcsKUqPQ"
      }
    }
  ]
}
